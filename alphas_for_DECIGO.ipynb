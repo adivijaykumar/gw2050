{
 "cells": [
  {
   "cell_type": "code",
   "execution_count": 1,
   "metadata": {},
   "outputs": [],
   "source": [
    "import numpy as np\n",
    "from scipy.integrate import trapezoid\n",
    "import matplotlib.pyplot as plt\n",
    "from scipy.interpolate import interp1d\n",
    "\n",
    "MTSUN_SI = 4.925490947641267e-06"
   ]
  },
  {
   "cell_type": "code",
   "execution_count": 2,
   "metadata": {},
   "outputs": [],
   "source": [
    "NPTS_TRAPEZOID = int(1e5)\n",
    "def S_h_aLIGO(f):\n",
    "    \"\"\"\n",
    "    Calculate the spectral density S_n(f) for given frequency f.\n",
    "    \n",
    "    Parameters:\n",
    "        f (float or numpy.ndarray): Frequency in Hz\n",
    "        \n",
    "    Returns:\n",
    "        float or numpy.ndarray: Spectral density value(s)\n",
    "    \"\"\"\n",
    "    # Constants\n",
    "    S0 = 3e-48  # Hz^-1\n",
    "    f0 = 70     # Hz\n",
    "    \n",
    "    # Handle scalar input or numpy array\n",
    "    if np.isscalar(f):\n",
    "        if f < 10:\n",
    "            return float('inf')\n",
    "        else:\n",
    "            return S0 * ((f0/f)**4 + 2*(1 + (f**2/f0**2)))\n",
    "    else:\n",
    "        # Convert input to numpy array if it isn't already\n",
    "        f = np.asarray(f)\n",
    "        result = np.zeros_like(f, dtype=float)\n",
    "        \n",
    "        # Apply piecewise conditions\n",
    "        mask_low = f < 10\n",
    "        mask_high = f >= 10\n",
    "        \n",
    "        result[mask_low] = float('inf')\n",
    "        result[mask_high] = S0 * ((f0/f[mask_high])**4 + 2*(1 + (f[mask_high]**2/f0**2)))\n",
    "        \n",
    "        return result\n",
    "\n",
    "def S_h_DECIGO(filename):\n",
    "    \"\"\"\n",
    "    Calculate the spectral density S_n(f) for given frequency f.\n",
    "    \n",
    "    Parameters:\n",
    "        f (float or numpy.ndarray): Frequency in Hz\n",
    "        \n",
    "    Returns:\n",
    "        float or numpy.ndarray: Spectral density value(s)\n",
    "    \"\"\"\n",
    "    f, S = np.loadtxt(filename, unpack=True, skiprows=1)\n",
    "    return interp1d(f, (S / np.sqrt(f)) ** 2, kind='linear', fill_value=np.inf, bounds_error=False)\n",
    "    \n",
    "\n",
    "def integrand(f, beta):\n",
    "    return f**(-beta) / S_h(f)\n",
    "\n",
    "\n",
    "def compute_f7_3(f_lower=10, f_upper=1000):\n",
    "    f_arr = np.geomspace(f_lower, f_upper, NPTS_TRAPEZOID)\n",
    "    integrand_arr = integrand(f_arr, 7 / 3)\n",
    "    integral = trapezoid(integrand_arr, f_arr)\n",
    "    return integral\n",
    "\n",
    "\n",
    "def compute_fbar(beta, f_lower=10, f_upper=1000):\n",
    "    f7_3 = compute_f7_3(f_lower, f_upper)\n",
    "    f_arr = np.geomspace(f_lower, f_upper, NPTS_TRAPEZOID)\n",
    "    integrand_arr = integrand(f_arr, beta)\n",
    "    integral = trapezoid(integrand_arr, f_arr)\n",
    "    return integral / f7_3\n",
    "\n",
    "\n",
    "def compute_Delta(f_lower=10, f_upper=1000):\n",
    "    f1_3_bar = compute_fbar(1 / 3, f_lower, f_upper)\n",
    "    f4_3_bar = compute_fbar(4 / 3, f_lower, f_upper)\n",
    "    f17_3_bar = compute_fbar(17 / 3, f_lower, f_upper)\n",
    "    f4_bar = compute_fbar(4, f_lower, f_upper)\n",
    "    f3_bar = compute_fbar(3, f_lower, f_upper)\n",
    "\n",
    "    return (\n",
    "        (f1_3_bar - f4_3_bar**2) * f17_3_bar\n",
    "        - f1_3_bar * f4_bar**2\n",
    "        + (2 * f4_bar * f4_3_bar - f3_bar) * f3_bar\n",
    "    )\n",
    "\n",
    "\n",
    "def compute_mc_err(rho=10, M=1, f_lower=10, f_upper=1000):\n",
    "    Delta = compute_Delta(f_lower, f_upper)\n",
    "    factor = 16384 / (25 * rho**2)\n",
    "    M_hat = M  # Fiducial value for chirp mass in solar masses\n",
    "\n",
    "    f1_3_bar = compute_fbar(1 / 3, f_lower, f_upper)\n",
    "    f4_3_bar = compute_fbar(4 / 3, f_lower, f_upper)\n",
    "    \n",
    "    num =  (f1_3_bar - f4_3_bar**2)\n",
    "    den = Delta\n",
    "    \n",
    "    frac_err_square = factor * num / den * (np.pi * M_hat * MTSUN_SI) ** (10 / 3)\n",
    "\n",
    "    return np.sqrt(frac_err_square)\n",
    "\n",
    "def duration_in_band(chirp_mass, f_lower, f_upper):\n",
    "    return 1000 * chirp_mass ** (-5 / 3) * (f_lower ** (-8 / 3) - f_upper ** (-8 / 3)) / (10 ** (-8/3))"
   ]
  },
  {
   "cell_type": "code",
   "execution_count": 3,
   "metadata": {},
   "outputs": [
    {
     "name": "stdout",
     "output_type": "stream",
     "text": [
      "Our calculation gives alpha=1.2e-05. CF94 value alpha=1.2e-5.\n",
      "alpha=1.3e-10 for DECIGO assuming f_low=1.0e-02 Hz. Valid only for Mc > 5.5e+01 Msun assuming DECIGO observation time = 4 yr.\n",
      "alpha=6.8e-10 for DECIGO assuming f_low=5.0e-02 Hz. Valid only for Mc > 4.2e+00 Msun assuming DECIGO observation time = 4 yr.\n",
      "alpha=2.1e-09 for DECIGO assuming f_low=1.0e-01 Hz. Valid only for Mc > 1.4e+00 Msun assuming DECIGO observation time = 4 yr.\n"
     ]
    }
   ],
   "source": [
    "# Does this match CF94?\n",
    "\n",
    "S_h = S_h_aLIGO\n",
    "alpha_aLIGO = compute_mc_err(f_lower=10, f_upper=4400)\n",
    "print(f\"Our calculation gives alpha={alpha_aLIGO:.1e}. CF94 value alpha=1.2e-5.\")\n",
    "\n",
    "filename = \"decihertz-noise-curves/decigoMueller.txt\"\n",
    "S_h = S_h_DECIGO(filename=filename)\n",
    "\n",
    "for f_low in [1e-2, 5e-2, 1e-1]:\n",
    "    \"\"\"\n",
    "    Compute alpha for DECIGO assuming different f_low values.\n",
    "    This alpha is only valid for chirp mass greater than Mcut,\n",
    "    where Mcut is set by demanding that the in-band duration\n",
    "    is smaller than the observation time of DECIGO (typically 4 yr). \n",
    "    \"\"\"\n",
    "    f_upper = 5\n",
    "    alpha_DECIGO = compute_mc_err(f_lower=f_low, f_upper=f_upper)\n",
    "    in_band_duration = duration_in_band(1, f_low, f_upper)\n",
    "    decigo_obs_time = 4  # yr\n",
    "    yr_to_sec = 365.25 * 24 * 3600\n",
    "    Mcut = (in_band_duration / decigo_obs_time / yr_to_sec) ** (3 / 5)\n",
    "    print(\n",
    "        f\"alpha={alpha_DECIGO:.1e} for DECIGO assuming f_low={f_low:.1e} Hz. \"\n",
    "        f\"Valid only for Mc > {Mcut:.1e} Msun assuming DECIGO observation time = {decigo_obs_time} yr.\"\n",
    "    )"
   ]
  },
  {
   "cell_type": "code",
   "execution_count": 4,
   "metadata": {},
   "outputs": [
    {
     "data": {
      "image/png": "[encoded data removed]",
      "text/plain": [
       "<Figure size 640x480 with 1 Axes>"
      ]
     },
     "metadata": {},
     "output_type": "display_data"
    }
   ],
   "source": [
    "# plot S_h for DECIGO. This should have values <1e-40 Hz^-1 and\n",
    "# a flat spectrum starting ~0.1 Hz if everything is correct.\n",
    "f = np.geomspace(1e-2, 1e4, 1000)\n",
    "plt.loglog(f, S_h(f))\n",
    "plt.xlabel(\"f [Hz]\")\n",
    "plt.ylabel(\"S_h [Hz^-1]\")\n",
    "plt.title(\"S_h for DECIGO\")\n",
    "plt.show()"
   ]
  }
 ],
 "metadata": {
  "kernelspec": {
   "display_name": "virtual",
   "language": "python",
   "name": "python3"
  },
  "language_info": {
   "codemirror_mode": {
    "name": "ipython",
    "version": 3
   },
   "file_extension": ".py",
   "mimetype": "text/x-python",
   "name": "python",
   "nbconvert_exporter": "python",
   "pygments_lexer": "ipython3",
   "version": "3.10.12"
  }
 },
 "nbformat": 4,
 "nbformat_minor": 2
}
